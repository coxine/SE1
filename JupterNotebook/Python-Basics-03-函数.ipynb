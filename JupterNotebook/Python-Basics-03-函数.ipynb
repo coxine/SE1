{
 "cells": [
  {
   "cell_type": "markdown",
   "metadata": {},
   "source": [
    "# Function\n"
   ]
  },
  {
   "cell_type": "markdown",
   "metadata": {},
   "source": [
    "## Function Declaration and Call\n"
   ]
  },
  {
   "cell_type": "code",
   "execution_count": 1,
   "metadata": {},
   "outputs": [
    {
     "name": "stdout",
     "output_type": "stream",
     "text": [
      "Hello world\n",
      "Hello world\n"
     ]
    }
   ],
   "source": [
    "def say_hello():\n",
    "    #block in a function\n",
    "    print('Hello world')\n",
    "say_hello()\n",
    "say_hello()"
   ]
  },
  {
   "cell_type": "markdown",
   "metadata": {},
   "source": [
    "## Parameter and Argument\n"
   ]
  },
  {
   "cell_type": "code",
   "execution_count": 2,
   "metadata": {},
   "outputs": [
    {
     "name": "stdout",
     "output_type": "stream",
     "text": [
      "4 is maximum\n",
      "7 is maximum\n"
     ]
    }
   ],
   "source": [
    "def print_max(a,b):\n",
    "    if a>b:\n",
    "        print(a,'is maximum')\n",
    "    elif a == b:\n",
    "        print(a, 'is equal to',b)\n",
    "    else:\n",
    "        print(b,'is maximum' )\n",
    "\n",
    "print_max(3,4) \n",
    "\n",
    "x = 5\n",
    "y = 7 \n",
    "\n",
    "print_max(x,y)"
   ]
  },
  {
   "cell_type": "code",
   "execution_count": 1,
   "metadata": {},
   "outputs": [
    {
     "ename": "TypeError",
     "evalue": "printme() missing 1 required positional argument: 'str'",
     "output_type": "error",
     "traceback": [
      "\u001b[0;31m---------------------------------------------------------------------------\u001b[0m",
      "\u001b[0;31mTypeError\u001b[0m                                 Traceback (most recent call last)",
      "\u001b[0;32m<ipython-input-1-c5a00a16c65f>\u001b[0m in \u001b[0;36m<module>\u001b[0;34m()\u001b[0m\n\u001b[1;32m      8\u001b[0m \u001b[0;34m\u001b[0m\u001b[0m\n\u001b[1;32m      9\u001b[0m \u001b[0;31m#调用printme函数\u001b[0m\u001b[0;34m\u001b[0m\u001b[0;34m\u001b[0m\u001b[0m\n\u001b[0;32m---> 10\u001b[0;31m \u001b[0mprintme\u001b[0m\u001b[0;34m(\u001b[0m\u001b[0;34m)\u001b[0m\u001b[0;34m;\u001b[0m\u001b[0;34m\u001b[0m\u001b[0m\n\u001b[0m",
      "\u001b[0;31mTypeError\u001b[0m: printme() missing 1 required positional argument: 'str'"
     ]
    }
   ],
   "source": [
    "#!/usr/bin/python3\n",
    " \n",
    "def printme( str ):\n",
    "   #\"打印任何传入的字符串\"\n",
    "   print (str);\n",
    "   return;\n",
    " \n",
    "#调用printme函数\n",
    "printme();"
   ]
  },
  {
   "cell_type": "code",
   "execution_count": 2,
   "metadata": {},
   "outputs": [
    {
     "name": "stdout",
     "output_type": "stream",
     "text": [
      "菜鸟教程\n"
     ]
    }
   ],
   "source": [
    "#!/usr/bin/python3\n",
    " \n",
    "#关键字参数\n",
    "def printme( str ):\n",
    "   #\"打印任何传入的字符串\"\n",
    "   print (str);\n",
    "   return;\n",
    " \n",
    "#调用printme函数\n",
    "printme( str = \"菜鸟教程\");"
   ]
  },
  {
   "cell_type": "code",
   "execution_count": 3,
   "metadata": {},
   "outputs": [
    {
     "name": "stdout",
     "output_type": "stream",
     "text": [
      "名字:  runoob\n",
      "年龄:  50\n"
     ]
    }
   ],
   "source": [
    "#!/usr/bin/python3\n",
    " \n",
    "#不需要按指定顺序\n",
    "def printinfo( name, age ):\n",
    "   #\"打印任何传入的字符串\"\n",
    "   print (\"名字: \", name);\n",
    "   print (\"年龄: \", age);\n",
    "   return;\n",
    " \n",
    "#调用printinfo函数\n",
    "printinfo( age=50, name=\"runoob\" );"
   ]
  },
  {
   "cell_type": "code",
   "execution_count": 1,
   "metadata": {},
   "outputs": [
    {
     "name": "stdout",
     "output_type": "stream",
     "text": [
      "名字:  runoob\n",
      "年龄:  50\n",
      "------------------------\n",
      "名字:  runoob\n",
      "年龄:  35\n"
     ]
    }
   ],
   "source": [
    "#!/usr/bin/python3\n",
    " \n",
    "#默认参数\n",
    "def printinfo( name, age = 35 ):\n",
    "   \"打印任何传入的字符串\"\n",
    "   print (\"名字: \", name);\n",
    "   print (\"年龄: \", age);\n",
    "   return;\n",
    " \n",
    "#调用printinfo函数\n",
    "printinfo( age=50, name=\"runoob\" );\n",
    "print (\"------------------------\")\n",
    "printinfo( name=\"runoob\" );"
   ]
  },
  {
   "cell_type": "markdown",
   "metadata": {},
   "source": [
    "## Return Value\n"
   ]
  },
  {
   "cell_type": "code",
   "execution_count": 4,
   "metadata": {},
   "outputs": [
    {
     "name": "stdout",
     "output_type": "stream",
     "text": [
      "函数内 :  30\n",
      "函数外 :  30\n",
      "1 2 3\n"
     ]
    }
   ],
   "source": [
    "def sum( arg1, arg2 ):\n",
    "   # 返回2个参数的和.\n",
    "   total = arg1 + arg2\n",
    "   print (\"函数内 : \", total)\n",
    "   return total;\n",
    "\n",
    "# assign return value to a new variable\n",
    "total = sum( 10, 20 );\n",
    "print (\"函数外 : \", total)\n",
    "\n",
    "def myfun():\n",
    "  return 1,2,3\n",
    "a,b,c = myfun()\n",
    "print(a,b,c)"
   ]
  },
  {
   "cell_type": "markdown",
   "metadata": {},
   "source": [
    "## Main function\n"
   ]
  },
  {
   "cell_type": "code",
   "execution_count": 13,
   "metadata": {},
   "outputs": [],
   "source": [
    "#hello.py\n",
    "def foo():\n",
    "    str=\"function\"\n",
    "    print(str);\n",
    "#if __name__==\"__main__\": #如果没有这个main函数，运行python无结果 \n",
    "    print(\"main\")\n",
    "    foo()"
   ]
  },
  {
   "cell_type": "code",
   "execution_count": 14,
   "metadata": {},
   "outputs": [
    {
     "name": "stdout",
     "output_type": "stream",
     "text": [
      "main\n",
      "function\n"
     ]
    }
   ],
   "source": [
    "#hello.py\n",
    "def foo():\n",
    "    str=\"function\"\n",
    "    print(str);\n",
    "if __name__==\"__main__\": ##程序的入口点\n",
    "    print(\"main\")\n",
    "    foo()"
   ]
  },
  {
   "cell_type": "code",
   "execution_count": 1,
   "metadata": {},
   "outputs": [
    {
     "name": "stdout",
     "output_type": "stream",
     "text": [
      "main\n",
      "function\n"
     ]
    }
   ],
   "source": [
    "#程序的入口点\n",
    "#hello.py\n",
    "def foo():\n",
    "    str=\"function\"\n",
    "    print(str);\n",
    "if __name__==\"__main__\":  \n",
    "    print(\"main\")\n",
    "foo()   #foo is called after main fuction"
   ]
  },
  {
   "cell_type": "code",
   "execution_count": 5,
   "metadata": {},
   "outputs": [
    {
     "name": "stdout",
     "output_type": "stream",
     "text": [
      "function\n",
      "main\n"
     ]
    }
   ],
   "source": [
    "#程序的入口点\n",
    "#hello.py\n",
    "def foo():\n",
    "    str=\"function\"\n",
    "    print(str);\n",
    "foo()   #foo is called before main fuction\n",
    "if __name__==\"__main__\":  \n",
    "    print(\"main\")"
   ]
  },
  {
   "cell_type": "markdown",
   "metadata": {},
   "source": [
    "## Local Variable\n"
   ]
  },
  {
   "cell_type": "code",
   "execution_count": 2,
   "metadata": {},
   "outputs": [
    {
     "name": "stdout",
     "output_type": "stream",
     "text": [
      "x is 50\n",
      "Changed local x to 2\n",
      "x is still 50\n"
     ]
    }
   ],
   "source": [
    "x = 50\n",
    "def func(x):\n",
    "    print('x is', x)\n",
    "    x = 2\n",
    "    print('Changed local x to', x)\n",
    "\n",
    "func(x)\n",
    "print('x is still',x)"
   ]
  },
  {
   "cell_type": "code",
   "execution_count": 6,
   "metadata": {},
   "outputs": [
    {
     "name": "stdout",
     "output_type": "stream",
     "text": [
      "x is 50\n",
      "Changed local x to 2\n",
      "x is still 2\n"
     ]
    }
   ],
   "source": [
    "x = 50\n",
    "def func():\n",
    "    global x\n",
    "    print('x is', x)\n",
    "    x = 2\n",
    "    print('Changed local x to', x)\n",
    "\n",
    "func()\n",
    "print('x is still',x)"
   ]
  },
  {
   "cell_type": "code",
   "execution_count": 19,
   "metadata": {},
   "outputs": [
    {
     "name": "stdout",
     "output_type": "stream",
     "text": [
      "x is 1\n",
      "Changed local x to 2\n",
      "x is still 50\n"
     ]
    }
   ],
   "source": [
    "x = 50\n",
    "def func():\n",
    "    x = 1\n",
    "    print('x is', x)\n",
    "    x = 2\n",
    "    print('Changed local x to', x)\n",
    "\n",
    "func()\n",
    "print('x is still',x)"
   ]
  },
  {
   "cell_type": "code",
   "execution_count": 5,
   "metadata": {},
   "outputs": [
    {
     "name": "stdout",
     "output_type": "stream",
     "text": [
      "Hello\n",
      "WorldWorldWorldWorldWorld\n"
     ]
    }
   ],
   "source": [
    "def say(message, times =1):\n",
    "    print(message*times)\n",
    "\n",
    "say('Hello')\n",
    "say('World', 5)"
   ]
  },
  {
   "cell_type": "code",
   "execution_count": 3,
   "metadata": {},
   "outputs": [
    {
     "ename": "SyntaxError",
     "evalue": "positional argument follows keyword argument (1297735917.py, line 6)",
     "output_type": "error",
     "traceback": [
      "\u001b[0;36m  File \u001b[0;32m\"/var/folders/wh/08k8jq790vgdblwhwvkr393m0000gn/T/ipykernel_37661/1297735917.py\"\u001b[0;36m, line \u001b[0;32m6\u001b[0m\n\u001b[0;31m    func(c = 50, 100)\u001b[0m\n\u001b[0m                    ^\u001b[0m\n\u001b[0;31mSyntaxError\u001b[0m\u001b[0;31m:\u001b[0m positional argument follows keyword argument\n"
     ]
    }
   ],
   "source": [
    "def func(a, b=5,c=10):\n",
    "    print('a is ', a, 'and b is ', b, 'and c', c)\n",
    "func(3,7)\n",
    "func(25,c=24)\n",
    "func(c = 50, a=100)\n",
    "func(c = 50, 100)"
   ]
  },
  {
   "cell_type": "code",
   "execution_count": 4,
   "metadata": {},
   "outputs": [
    {
     "name": "stdout",
     "output_type": "stream",
     "text": [
      "a is  3 and b is  7 and c 10\n",
      "a is  25 and b is  5 and c 24\n",
      "a is  100 and b is  5 and c 50\n"
     ]
    }
   ],
   "source": [
    "def func(a, b=5,c=10):\n",
    "    print('a is ', a, 'and b is ', b, 'and c', c)\n",
    "func(3,7)\n",
    "func(25,c=24)\n",
    "func(c = 50, a=100)"
   ]
  },
  {
   "cell_type": "code",
   "execution_count": 3,
   "metadata": {},
   "outputs": [
    {
     "name": "stdout",
     "output_type": "stream",
     "text": [
      "a 10\n",
      "single_item 1\n",
      "single_item 2\n",
      "single_item 3\n",
      "Jack 1123\n",
      "John 2231\n",
      "Inge 1560\n"
     ]
    }
   ],
   "source": [
    "def total(a=5, *numbers, **phonebook):\n",
    "    print('a', a)\n",
    "    \n",
    "    for single_item in numbers:\n",
    "        print('single_item',single_item)\n",
    "    \n",
    "    for first_part, second_part in phonebook.items():\n",
    "        print(first_part,second_part)\n",
    "total(10,1,2,3,Jack=1123,John=2231,Inge=1560)"
   ]
  },
  {
   "cell_type": "code",
   "execution_count": 15,
   "metadata": {},
   "outputs": [
    {
     "name": "stdout",
     "output_type": "stream",
     "text": [
      "3\n"
     ]
    }
   ],
   "source": [
    "def maximum(x, y):\n",
    "    if x > y:\n",
    "        return x\n",
    "    elif x == y:\n",
    "        return 'The numbers are equal'\n",
    "    else:\n",
    "        return y\n",
    "print(maximum(2,3))"
   ]
  },
  {
   "cell_type": "code",
   "execution_count": 21,
   "metadata": {},
   "outputs": [
    {
     "data": {
      "text/plain": [
       "'The numbers are equal'"
      ]
     },
     "execution_count": 21,
     "metadata": {},
     "output_type": "execute_result"
    }
   ],
   "source": [
    "def maximum(x, y):\n",
    "    if x > y:\n",
    "        return x\n",
    "    elif x == y:\n",
    "        return 'The numbers are equal'\n",
    "    else:\n",
    "        return y\n",
    "print(maximum(3,3))"
   ]
  },
  {
   "cell_type": "code",
   "execution_count": 1,
   "metadata": {},
   "outputs": [
    {
     "name": "stdout",
     "output_type": "stream",
     "text": [
      "3 is maximum\n",
      "Prints the maximum of two numbers\n",
      "    The two values must be intergers.\n"
     ]
    }
   ],
   "source": [
    "def print_max(x,y):\n",
    "    '''Prints the maximum of two numbers\n",
    "    The two values must be intergers.'''\n",
    "    x = int(x)\n",
    "    y = int(y)\n",
    "    if (x >y):\n",
    "        print(x, 'is maximum')\n",
    "    else:\n",
    "        print(x, 'is maximum')\n",
    "print_max(3,5)\n",
    "print(print_max.__doc__)"
   ]
  },
  {
   "cell_type": "markdown",
   "metadata": {},
   "source": [
    "## Homework 04 - Validate Input\n",
    "\n",
    "Write a program to validate the input data(First Name, Last Name, EmployeeID, Zip code). The first name and the last name must be filled in, which at least two letters. EmployeeID must be in such format:\"AA-1234\". Zip code must be numeric.\n",
    "\n",
    "- Enter the fisrt name: J\n",
    "- Enter the last name:\n",
    "- Enter the ZIP code: ABCDE\n",
    "- Enter an employee ID: A12-1234\n",
    "- \"J\" is not a valid first name. It is too short.\n",
    "- The last name must be filled in.\n",
    "- The ZIP code must be numeric.\n",
    "- A12-1234 is not a valid ID.\n"
   ]
  },
  {
   "cell_type": "code",
   "execution_count": 1,
   "metadata": {},
   "outputs": [
    {
     "name": "stdout",
     "output_type": "stream",
     "text": [
      "False\n",
      "True\n",
      "False\n"
     ]
    }
   ],
   "source": [
    "s1 = 'abc'\n",
    "s2 = '123'\n",
    "s3 = '1.23'\n",
    "print(s1.isdigit())\n",
    "print(s2.isdigit())\n",
    "print(s3.isdigit())"
   ]
  },
  {
   "cell_type": "code",
   "execution_count": 6,
   "metadata": {},
   "outputs": [
    {
     "name": "stdout",
     "output_type": "stream",
     "text": [
      "Input：\n",
      "True\n"
     ]
    }
   ],
   "source": [
    "str = input(\"Input：\")\n",
    "print(str == '')"
   ]
  },
  {
   "cell_type": "code",
   "execution_count": 1,
   "metadata": {},
   "outputs": [
    {
     "name": "stdout",
     "output_type": "stream",
     "text": [
      "Enter the fisrt name:J\n",
      "Enter the last name:\n",
      "Enter the ZIP code:ABCDE\n",
      "Enter an employee ID:A12-1234\n",
      "\"J\" is not a valid first name. It is too short.\n",
      "The last name must be filled in.\n",
      "The ZIP code must be numeric.\n",
      "A12-1234 is not a valid ID.\n"
     ]
    }
   ],
   "source": [
    "first_name=input('Enter the fisrt name:')\n",
    "\n",
    "last_name=input('Enter the last name:')\n",
    "\n",
    "zip_code=input('Enter the ZIP code:')\n",
    "\n",
    "employee_id=input('Enter an employee ID:')\n",
    "\n",
    "\n",
    "\n",
    "if len(first_name)==0:\n",
    "\n",
    "    print(\"The first name must be filled in.\")\n",
    "\n",
    "elif len(first_name)==1:\n",
    "\n",
    "    print('\"{0}\" is not a valid first name. It is too short.'.format(first_name))\n",
    "\n",
    "else:\n",
    "\n",
    "    pass\n",
    "\n",
    "\n",
    "\n",
    "if len(last_name)==0:\n",
    "\n",
    "    print(\"The last name must be filled in.\")\n",
    "\n",
    "elif len(last_name)==1:\n",
    "\n",
    "    print('\"{0}\" is not a valid last name. It is too short.'.format(last_name))\n",
    "\n",
    "else:\n",
    "\n",
    "    pass\n",
    "\n",
    "\n",
    "\n",
    "d=1\n",
    "\n",
    "for i in range(len(zip_code)):\n",
    "\n",
    "    if zip_code[i]<'0' or zip_code[i]>'9':\n",
    "\n",
    "        d=0\n",
    "\n",
    "if not d:\n",
    "\n",
    "    print(\"The ZIP code must be numeric.\")\n",
    "\n",
    "    \n",
    "\n",
    "d=1\n",
    "\n",
    "if len(employee_id)!=7:\n",
    "\n",
    "    d=0\n",
    "\n",
    "for i in range(2):\n",
    "\n",
    "    if employee_id[i]<'A' or employee_id[i]>'Z':\n",
    "\n",
    "        d=0\n",
    "\n",
    "if employee_id[2]!='-':\n",
    "\n",
    "    d=0\n",
    "\n",
    "for i in range(3,7):\n",
    "\n",
    "    if employee_id[i]<'0' or employee_id[i]>'9':\n",
    "\n",
    "        d=0\n",
    "\n",
    "if not d:\n",
    "\n",
    "    print(\"{0} is not a valid ID.\".format(employee_id))"
   ]
  },
  {
   "cell_type": "code",
   "execution_count": null,
   "metadata": {
    "collapsed": true
   },
   "outputs": [],
   "source": []
  }
 ],
 "metadata": {
  "kernelspec": {
   "display_name": "Python 3 (ipykernel)",
   "language": "python",
   "name": "python3"
  },
  "language_info": {
   "codemirror_mode": {
    "name": "ipython",
    "version": 3
   },
   "file_extension": ".py",
   "mimetype": "text/x-python",
   "name": "python",
   "nbconvert_exporter": "python",
   "pygments_lexer": "ipython3",
   "version": "3.12.2"
  }
 },
 "nbformat": 4,
 "nbformat_minor": 2
}
