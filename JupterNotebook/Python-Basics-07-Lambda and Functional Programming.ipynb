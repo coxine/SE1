{
 "cells": [
  {
   "cell_type": "markdown",
   "metadata": {},
   "source": [
    "# Lambda and Functional Programming\n"
   ]
  },
  {
   "cell_type": "code",
   "execution_count": 57,
   "metadata": {
    "scrolled": true
   },
   "outputs": [
    {
     "name": "stdout",
     "output_type": "stream",
     "text": [
      "[1, 3, 5, 7, 9, 11, 13, 15, 17, 19, 21, 23, 25, 27, 29, 31, 33, 35, 37, 39, 41, 43, 45, 47, 49, 51, 53, 55, 57, 59, 61, 63, 65, 67, 69, 71, 73, 75, 77, 79, 81, 83, 85, 87, 89, 91, 93, 95, 97, 99]\n",
      "[99, 97, 95, 93, 91, 89, 87, 85, 83, 81, 79, 77, 75, 73, 71, 69, 67, 65, 63, 61, 59, 57, 55, 53, 51, 49, 47, 45, 43, 41, 39, 37, 35, 33, 31, 29, 27, 25, 23, 21, 19, 17, 15, 13, 11, 9, 7, 5, 3, 1]\n"
     ]
    }
   ],
   "source": [
    "n = 100\n",
    "list1 = range(1, n, 2)\n",
    "print([i for i in list1])\n",
    "print([i for i in list1[::-1]])"
   ]
  },
  {
   "cell_type": "code",
   "execution_count": 12,
   "metadata": {},
   "outputs": [
    {
     "name": "stdout",
     "output_type": "stream",
     "text": [
      "<function <lambda> at 0x10e22bf28>\n",
      "hello\n",
      "5\n",
      "5\n"
     ]
    }
   ],
   "source": [
    "func1 = lambda: print(\"hello\")\n",
    "func2 = lambda x: print(x + 3)\n",
    "func3 = lambda x, y: print(str(x + y))\n",
    "print(func1)\n",
    "func1()\n",
    "func2(2)\n",
    "func3(2, 3)"
   ]
  },
  {
   "cell_type": "code",
   "execution_count": 13,
   "metadata": {},
   "outputs": [
    {
     "name": "stdout",
     "output_type": "stream",
     "text": [
      "22\n"
     ]
    }
   ],
   "source": [
    "def myfunc(n):\n",
    "    return lambda a: a * n\n",
    "\n",
    "\n",
    "mydoubler = myfunc(2)\n",
    "\n",
    "print(mydoubler(11))"
   ]
  },
  {
   "cell_type": "code",
   "execution_count": null,
   "metadata": {},
   "outputs": [],
   "source": []
  },
  {
   "cell_type": "code",
   "execution_count": 28,
   "metadata": {},
   "outputs": [
    {
     "name": "stdout",
     "output_type": "stream",
     "text": [
      "2\n",
      "4\n",
      "6\n",
      "8\n",
      "10\n"
     ]
    }
   ],
   "source": [
    "# map(func, iterable)\n",
    "double_func = lambda s: s * 2\n",
    "list1 = map(double_func, [1, 2, 3, 4, 5])\n",
    "for i in list1:\n",
    "    print(i)"
   ]
  },
  {
   "cell_type": "code",
   "execution_count": 55,
   "metadata": {},
   "outputs": [
    {
     "name": "stdout",
     "output_type": "stream",
     "text": [
      "[5, 7, 9]\n"
     ]
    }
   ],
   "source": [
    "# map(func, iterable1, iterable2)\n",
    "plus = lambda x, y: (x or 0) + (y or 0)\n",
    "list1 = map(plus, [1, 2, 3], [4, 5, 6])\n",
    "\n",
    "print([i for i in list1])"
   ]
  },
  {
   "cell_type": "code",
   "execution_count": 35,
   "metadata": {},
   "outputs": [
    {
     "name": "stdout",
     "output_type": "stream",
     "text": [
      "15\n",
      "25\n"
     ]
    }
   ],
   "source": [
    "from functools import reduce\n",
    "\n",
    "# reduce(func, iterable[, initializer])\n",
    "\n",
    "plus = lambda x, y: x + y\n",
    "sum1 = reduce(plus, [1, 2, 3, 4, 5])\n",
    "sum2 = reduce(plus, [1, 2, 3, 4, 5], 10)\n",
    "print(sum1)\n",
    "print(sum2)"
   ]
  },
  {
   "cell_type": "code",
   "execution_count": 60,
   "metadata": {},
   "outputs": [
    {
     "name": "stdout",
     "output_type": "stream",
     "text": [
      "[1, 3, 5, 7, 9]\n"
     ]
    }
   ],
   "source": [
    "# filter(func, iterable)\n",
    "\n",
    "mode2 = lambda x: x % 2\n",
    "list1 = filter(mode2, [1, 2, 3, 4, 5, 6, 7, 8, 9, 10])\n",
    "print([a for a in list1])"
   ]
  },
  {
   "cell_type": "code",
   "execution_count": 69,
   "metadata": {},
   "outputs": [
    {
     "name": "stdout",
     "output_type": "stream",
     "text": [
      "2\n",
      "2\n"
     ]
    }
   ],
   "source": [
    "# sequence statement\n",
    "x = 1\n",
    "x = x * 2\n",
    "print(x)\n",
    "\n",
    "# FP-style expression\n",
    "func1 = lambda: 1\n",
    "func2 = lambda x: x * 2\n",
    "print(func2(func1()))"
   ]
  },
  {
   "cell_type": "code",
   "execution_count": 65,
   "metadata": {},
   "outputs": [
    {
     "name": "stdout",
     "output_type": "stream",
     "text": [
      "one\n",
      "two\n",
      "other\n"
     ]
    }
   ],
   "source": [
    "# flow control statement\n",
    "# if <cond1>:   func1()\n",
    "# elif <cond2>: func2()\n",
    "# else:         func3()\n",
    "\n",
    "# Equivalent \"short circuit\" expression\n",
    "# (<cond1> and func1()) or (<cond2> and func2()) or (func3())\n",
    "\n",
    "pr = lambda s: s\n",
    "\n",
    "print_num = lambda x: (x == 1 and pr(\"one\")) or (x == 2 and pr(\"two\")) or (pr(\"other\"))\n",
    "\n",
    "print(print_num(1))\n",
    "print(print_num(2))\n",
    "print(print_num(3))"
   ]
  },
  {
   "cell_type": "code",
   "execution_count": 59,
   "metadata": {},
   "outputs": [
    {
     "name": "stdout",
     "output_type": "stream",
     "text": [
      "[1, 4, 9, 16, 25]\n"
     ]
    }
   ],
   "source": [
    "# statement-based for loop\n",
    "# for e in lst:  func(e)\n",
    "\n",
    "# Equivalent map()-based loop\n",
    "# map(func, lst)\n",
    "\n",
    "square = lambda x: x * x\n",
    "for x in [1, 2, 3, 4, 5]:\n",
    "    square(x)\n",
    "list1 = map(square, [1, 2, 3, 4, 5])\n",
    "print([a for a in list1])"
   ]
  },
  {
   "cell_type": "code",
   "execution_count": 50,
   "metadata": {},
   "outputs": [
    {
     "name": "stdout",
     "output_type": "stream",
     "text": [
      "IMP -- abc123\n",
      "abc123\n",
      "IMP -- quit\n",
      "quit\n",
      "FP -- abc123\n",
      "abc123\n",
      "FP -- quit\n",
      "quit\n",
      "True\n"
     ]
    }
   ],
   "source": [
    "# statement-based while loop\n",
    "# while <condition>:\n",
    "#     <pre-suite>\n",
    "#     if <break_condition>:\n",
    "#         break\n",
    "#     else:\n",
    "#         <suite>\n",
    "\n",
    "# Equivalent FP-style recursive while loop\n",
    "# def while_block():\n",
    "#     <pre-suite>\n",
    "#     if <break_condition>:\n",
    "#         return 1\n",
    "#     else:\n",
    "#         <suite>\n",
    "#     return 0\n",
    "\n",
    "# while_FP = lambda: <condition> and (while_block() or while_FP())\n",
    "# while_FP()\n",
    "\n",
    "\n",
    "# imperative version of \"echo()\"\n",
    "def echo_IMP():\n",
    "    while 1:\n",
    "        x = input(\"IMP -- \")\n",
    "        print(x)\n",
    "        if x == \"quit\":\n",
    "            break\n",
    "\n",
    "\n",
    "echo_IMP()\n",
    "\n",
    "\n",
    "# FP version of \"echo()\"\n",
    "def monadic_print(x):\n",
    "    print(x)\n",
    "    return x\n",
    "\n",
    "\n",
    "echo_FP = lambda: monadic_print(input(\"FP -- \")) == \"quit\" or echo_FP()\n",
    "echo_FP()"
   ]
  },
  {
   "cell_type": "code",
   "execution_count": 5,
   "metadata": {},
   "outputs": [
    {
     "name": "stdout",
     "output_type": "stream",
     "text": [
      "[1, 2, 3, 4, 1, 2, 3, 4, 1, 2, 3, 4, 1, 2, 3, 4]\n",
      "dupelms:[10, 10, 10, 10, 15, 15, 15, 15, 3, 3, 3, 3, 22, 22, 22, 22]\n",
      "\n",
      "combine:[(1, 10), (2, 10), (3, 10), (4, 10), (1, 15), (2, 15), (3, 15), (4, 15), (1, 3), (2, 3), (3, 3), (4, 3), (1, 22), (2, 22), (3, 22), (4, 22)]\n",
      "\n",
      "bigmuls[(3, 10), (4, 10), (2, 15), (3, 15), (4, 15), (2, 22), (3, 22), (4, 22)]\n",
      "for:[(2, 15), (2, 22), (3, 10), (3, 15), (3, 22), (4, 10), (4, 15), (4, 22)]\n"
     ]
    }
   ],
   "source": [
    "# 笛卡尔积元组集合中两个元素之积大于25的所有元组。\n",
    "\n",
    "from functools import reduce\n",
    "\n",
    "dupelms = lambda lst, n: reduce(lambda s, t: s + t, map(lambda l, n1=n: [l] * n1, lst))\n",
    "combine = lambda xs, ys: zip(xs * len(ys), dupelms(ys, len(xs)))\n",
    "bigmuls = lambda xs, ys: filter(lambda t: t[0] * t[1] > 25, combine(xs, ys))\n",
    "\n",
    "\n",
    "list1 = dupelms([10, 15, 3, 22], len([1, 2, 3, 4]))\n",
    "print([1, 2, 3, 4] * len([10, 15, 3, 22]))\n",
    "print(\"dupelms:\" + str([i for i in list1]) + \"\\n\")\n",
    "list2 = combine([1, 2, 3, 4], [10, 15, 3, 22])\n",
    "print(\"combine:\" + str([i for i in list2]) + \"\\n\")\n",
    "list3 = list(bigmuls([1, 2, 3, 4], [10, 15, 3, 22]))\n",
    "print(\"bigmuls\" + str([i for i in list3]))\n",
    "\n",
    "print(\n",
    "    \"for:\" + str([(x, y) for x in (1, 2, 3, 4) for y in (10, 15, 3, 22) if x * y > 25])\n",
    ")"
   ]
  },
  {
   "cell_type": "markdown",
   "metadata": {},
   "source": [
    "dupelms:[10, 10, 10, 10, 15, 15, 15, 15, 3, 3, 3, 3, 22, 22, 22, 22]\n",
    "\n",
    "combine:[(1, 10), (2, 10), (3, 10), (4, 10), (1, 15), (2, 15), (3, 15), (4, 15), (1, 3), (2, 3), (3, 3), (4, 3), (1, 22), (2, 22), (3, 22), (4, 22)]\n",
    "\n",
    "bigmuls[(3, 10), (4, 10), (2, 15), (3, 15), (4, 15), (2, 22), (3, 22), (4, 22)]\n",
    "for:[(2, 15), (2, 22), (3, 10), (3, 15), (3, 22), (4, 10), (4, 15), (4, 22)]\n"
   ]
  }
 ],
 "metadata": {
  "kernelspec": {
   "display_name": "Python 3 (ipykernel)",
   "language": "python",
   "name": "python3"
  },
  "language_info": {
   "codemirror_mode": {
    "name": "ipython",
    "version": 3
   },
   "file_extension": ".py",
   "mimetype": "text/x-python",
   "name": "python",
   "nbconvert_exporter": "python",
   "pygments_lexer": "ipython3",
   "version": "3.9.7"
  }
 },
 "nbformat": 4,
 "nbformat_minor": 2
}
